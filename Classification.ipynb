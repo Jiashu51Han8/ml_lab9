{
 "cells": [
  {
   "cell_type": "markdown",
   "metadata": {},
   "source": [
    "# 1. Data preparation\n"
   ]
  },
  {
   "cell_type": "markdown",
   "metadata": {},
   "source": [
    "## 1. Algorithms"
   ]
  },
  {
   "cell_type": "markdown",
   "metadata": {},
   "source": [
    "I chose to use the decision tree, and the NB classifiers.\n",
    "First, implement the DT method, for simplicity, I will use the sklearn DT"
   ]
  },
  {
   "cell_type": "code",
   "execution_count": 1,
   "metadata": {},
   "outputs": [],
   "source": [
    "from sklearn import tree\n",
    "import matplotlib.pyplot as plt\n",
    "%matplotlib inline\n",
    "import pandas as pd\n",
    "import numpy as np\n",
    "\n",
    "\n",
    "clf = tree.DecisionTreeClassifier()"
   ]
  },
  {
   "cell_type": "code",
   "execution_count": 2,
   "metadata": {},
   "outputs": [
    {
     "data": {
      "text/html": [
       "<div>\n",
       "<style scoped>\n",
       "    .dataframe tbody tr th:only-of-type {\n",
       "        vertical-align: middle;\n",
       "    }\n",
       "\n",
       "    .dataframe tbody tr th {\n",
       "        vertical-align: top;\n",
       "    }\n",
       "\n",
       "    .dataframe thead th {\n",
       "        text-align: right;\n",
       "    }\n",
       "</style>\n",
       "<table border=\"1\" class=\"dataframe\">\n",
       "  <thead>\n",
       "    <tr style=\"text-align: right;\">\n",
       "      <th></th>\n",
       "      <th>CUSTOMER_ID</th>\n",
       "      <th>ZIP_CODE</th>\n",
       "      <th>TOTAL_VISITS</th>\n",
       "      <th>TOTAL_SPENT</th>\n",
       "      <th>AVRG_SPENT_PER_VISIT</th>\n",
       "      <th>HAS_CREDIT_CARD</th>\n",
       "      <th>PSWEATERS</th>\n",
       "      <th>PKNIT_TOPS</th>\n",
       "      <th>PKNIT_DRES</th>\n",
       "      <th>PBLOUSES</th>\n",
       "      <th>...</th>\n",
       "      <th>STORELOY</th>\n",
       "      <th>VALPHON</th>\n",
       "      <th>WEB</th>\n",
       "      <th>MAILED</th>\n",
       "      <th>RESPONDED</th>\n",
       "      <th>RESPONSERATE</th>\n",
       "      <th>LTFREDAY</th>\n",
       "      <th>CLUSTYPE</th>\n",
       "      <th>PERCRET</th>\n",
       "      <th>RESP</th>\n",
       "    </tr>\n",
       "  </thead>\n",
       "  <tbody>\n",
       "    <tr>\n",
       "      <th>0</th>\n",
       "      <td>9955600066402</td>\n",
       "      <td>1001</td>\n",
       "      <td>2</td>\n",
       "      <td>368.46</td>\n",
       "      <td>184.23</td>\n",
       "      <td>0</td>\n",
       "      <td>0.18</td>\n",
       "      <td>0.00</td>\n",
       "      <td>0.00</td>\n",
       "      <td>0.30</td>\n",
       "      <td>...</td>\n",
       "      <td>7</td>\n",
       "      <td>N</td>\n",
       "      <td>0</td>\n",
       "      <td>5</td>\n",
       "      <td>0</td>\n",
       "      <td>0.00</td>\n",
       "      <td>111.00</td>\n",
       "      <td>10</td>\n",
       "      <td>0.00</td>\n",
       "      <td>0</td>\n",
       "    </tr>\n",
       "    <tr>\n",
       "      <th>1</th>\n",
       "      <td>9955600073501</td>\n",
       "      <td>1028</td>\n",
       "      <td>4</td>\n",
       "      <td>258.00</td>\n",
       "      <td>64.50</td>\n",
       "      <td>1</td>\n",
       "      <td>0.26</td>\n",
       "      <td>0.16</td>\n",
       "      <td>0.00</td>\n",
       "      <td>0.00</td>\n",
       "      <td>...</td>\n",
       "      <td>7</td>\n",
       "      <td>Y</td>\n",
       "      <td>0</td>\n",
       "      <td>4</td>\n",
       "      <td>2</td>\n",
       "      <td>50.00</td>\n",
       "      <td>43.50</td>\n",
       "      <td>10</td>\n",
       "      <td>0.03</td>\n",
       "      <td>1</td>\n",
       "    </tr>\n",
       "    <tr>\n",
       "      <th>2</th>\n",
       "      <td>9955600076313</td>\n",
       "      <td>1056</td>\n",
       "      <td>2</td>\n",
       "      <td>77.00</td>\n",
       "      <td>38.50</td>\n",
       "      <td>0</td>\n",
       "      <td>1.00</td>\n",
       "      <td>0.00</td>\n",
       "      <td>0.00</td>\n",
       "      <td>0.00</td>\n",
       "      <td>...</td>\n",
       "      <td>7</td>\n",
       "      <td>N</td>\n",
       "      <td>0</td>\n",
       "      <td>4</td>\n",
       "      <td>0</td>\n",
       "      <td>0.00</td>\n",
       "      <td>68.60</td>\n",
       "      <td>16</td>\n",
       "      <td>0.00</td>\n",
       "      <td>0</td>\n",
       "    </tr>\n",
       "    <tr>\n",
       "      <th>3</th>\n",
       "      <td>9955600078045</td>\n",
       "      <td>1118</td>\n",
       "      <td>8</td>\n",
       "      <td>846.06</td>\n",
       "      <td>105.75</td>\n",
       "      <td>1</td>\n",
       "      <td>0.38</td>\n",
       "      <td>0.00</td>\n",
       "      <td>0.05</td>\n",
       "      <td>0.06</td>\n",
       "      <td>...</td>\n",
       "      <td>7</td>\n",
       "      <td>Y</td>\n",
       "      <td>0</td>\n",
       "      <td>9</td>\n",
       "      <td>6</td>\n",
       "      <td>66.67</td>\n",
       "      <td>26.96</td>\n",
       "      <td>10</td>\n",
       "      <td>0.00</td>\n",
       "      <td>0</td>\n",
       "    </tr>\n",
       "    <tr>\n",
       "      <th>4</th>\n",
       "      <td>9955600078517</td>\n",
       "      <td>1107</td>\n",
       "      <td>1</td>\n",
       "      <td>87.44</td>\n",
       "      <td>87.44</td>\n",
       "      <td>0</td>\n",
       "      <td>0.20</td>\n",
       "      <td>0.20</td>\n",
       "      <td>0.00</td>\n",
       "      <td>0.00</td>\n",
       "      <td>...</td>\n",
       "      <td>7</td>\n",
       "      <td>Y</td>\n",
       "      <td>0</td>\n",
       "      <td>0</td>\n",
       "      <td>0</td>\n",
       "      <td>0.00</td>\n",
       "      <td>24.50</td>\n",
       "      <td>20</td>\n",
       "      <td>0.00</td>\n",
       "      <td>0</td>\n",
       "    </tr>\n",
       "    <tr>\n",
       "      <th>...</th>\n",
       "      <td>...</td>\n",
       "      <td>...</td>\n",
       "      <td>...</td>\n",
       "      <td>...</td>\n",
       "      <td>...</td>\n",
       "      <td>...</td>\n",
       "      <td>...</td>\n",
       "      <td>...</td>\n",
       "      <td>...</td>\n",
       "      <td>...</td>\n",
       "      <td>...</td>\n",
       "      <td>...</td>\n",
       "      <td>...</td>\n",
       "      <td>...</td>\n",
       "      <td>...</td>\n",
       "      <td>...</td>\n",
       "      <td>...</td>\n",
       "      <td>...</td>\n",
       "      <td>...</td>\n",
       "      <td>...</td>\n",
       "      <td>...</td>\n",
       "    </tr>\n",
       "    <tr>\n",
       "      <th>21735</th>\n",
       "      <td>9964400917586</td>\n",
       "      <td>63105</td>\n",
       "      <td>2</td>\n",
       "      <td>39.00</td>\n",
       "      <td>19.50</td>\n",
       "      <td>0</td>\n",
       "      <td>0.00</td>\n",
       "      <td>0.00</td>\n",
       "      <td>0.39</td>\n",
       "      <td>0.00</td>\n",
       "      <td>...</td>\n",
       "      <td>870</td>\n",
       "      <td>Y</td>\n",
       "      <td>0</td>\n",
       "      <td>1</td>\n",
       "      <td>0</td>\n",
       "      <td>0.00</td>\n",
       "      <td>107.66</td>\n",
       "      <td>1</td>\n",
       "      <td>1.51</td>\n",
       "      <td>0</td>\n",
       "    </tr>\n",
       "    <tr>\n",
       "      <th>21736</th>\n",
       "      <td>9964401018057</td>\n",
       "      <td>72207</td>\n",
       "      <td>6</td>\n",
       "      <td>280.59</td>\n",
       "      <td>46.76</td>\n",
       "      <td>0</td>\n",
       "      <td>0.02</td>\n",
       "      <td>0.00</td>\n",
       "      <td>0.00</td>\n",
       "      <td>0.06</td>\n",
       "      <td>...</td>\n",
       "      <td>4507</td>\n",
       "      <td>N</td>\n",
       "      <td>0</td>\n",
       "      <td>5</td>\n",
       "      <td>2</td>\n",
       "      <td>40.00</td>\n",
       "      <td>18.45</td>\n",
       "      <td>12</td>\n",
       "      <td>0.69</td>\n",
       "      <td>0</td>\n",
       "    </tr>\n",
       "    <tr>\n",
       "      <th>21737</th>\n",
       "      <td>9964401099104</td>\n",
       "      <td>77084</td>\n",
       "      <td>9</td>\n",
       "      <td>1274.96</td>\n",
       "      <td>141.66</td>\n",
       "      <td>0</td>\n",
       "      <td>0.29</td>\n",
       "      <td>0.04</td>\n",
       "      <td>0.01</td>\n",
       "      <td>0.14</td>\n",
       "      <td>...</td>\n",
       "      <td>1615</td>\n",
       "      <td>N</td>\n",
       "      <td>0</td>\n",
       "      <td>7</td>\n",
       "      <td>2</td>\n",
       "      <td>28.57</td>\n",
       "      <td>12.62</td>\n",
       "      <td>15</td>\n",
       "      <td>0.08</td>\n",
       "      <td>1</td>\n",
       "    </tr>\n",
       "    <tr>\n",
       "      <th>21738</th>\n",
       "      <td>9964401138852</td>\n",
       "      <td>78640</td>\n",
       "      <td>3</td>\n",
       "      <td>265.94</td>\n",
       "      <td>88.64</td>\n",
       "      <td>0</td>\n",
       "      <td>0.18</td>\n",
       "      <td>0.00</td>\n",
       "      <td>0.03</td>\n",
       "      <td>0.11</td>\n",
       "      <td>...</td>\n",
       "      <td>36</td>\n",
       "      <td>Y</td>\n",
       "      <td>0</td>\n",
       "      <td>7</td>\n",
       "      <td>0</td>\n",
       "      <td>0.00</td>\n",
       "      <td>32.12</td>\n",
       "      <td>38</td>\n",
       "      <td>0.37</td>\n",
       "      <td>0</td>\n",
       "    </tr>\n",
       "    <tr>\n",
       "      <th>21739</th>\n",
       "      <td>9964401278251</td>\n",
       "      <td>95605</td>\n",
       "      <td>5</td>\n",
       "      <td>555.42</td>\n",
       "      <td>111.08</td>\n",
       "      <td>1</td>\n",
       "      <td>0.21</td>\n",
       "      <td>0.09</td>\n",
       "      <td>0.00</td>\n",
       "      <td>0.21</td>\n",
       "      <td>...</td>\n",
       "      <td>89</td>\n",
       "      <td>Y</td>\n",
       "      <td>0</td>\n",
       "      <td>6</td>\n",
       "      <td>2</td>\n",
       "      <td>33.33</td>\n",
       "      <td>11.25</td>\n",
       "      <td>17</td>\n",
       "      <td>0.00</td>\n",
       "      <td>1</td>\n",
       "    </tr>\n",
       "  </tbody>\n",
       "</table>\n",
       "<p>21740 rows × 48 columns</p>\n",
       "</div>"
      ],
      "text/plain": [
       "         CUSTOMER_ID  ZIP_CODE  TOTAL_VISITS  TOTAL_SPENT  \\\n",
       "0      9955600066402      1001             2       368.46   \n",
       "1      9955600073501      1028             4       258.00   \n",
       "2      9955600076313      1056             2        77.00   \n",
       "3      9955600078045      1118             8       846.06   \n",
       "4      9955600078517      1107             1        87.44   \n",
       "...              ...       ...           ...          ...   \n",
       "21735  9964400917586     63105             2        39.00   \n",
       "21736  9964401018057     72207             6       280.59   \n",
       "21737  9964401099104     77084             9      1274.96   \n",
       "21738  9964401138852     78640             3       265.94   \n",
       "21739  9964401278251     95605             5       555.42   \n",
       "\n",
       "       AVRG_SPENT_PER_VISIT  HAS_CREDIT_CARD  PSWEATERS  PKNIT_TOPS  \\\n",
       "0                    184.23                0       0.18        0.00   \n",
       "1                     64.50                1       0.26        0.16   \n",
       "2                     38.50                0       1.00        0.00   \n",
       "3                    105.75                1       0.38        0.00   \n",
       "4                     87.44                0       0.20        0.20   \n",
       "...                     ...              ...        ...         ...   \n",
       "21735                 19.50                0       0.00        0.00   \n",
       "21736                 46.76                0       0.02        0.00   \n",
       "21737                141.66                0       0.29        0.04   \n",
       "21738                 88.64                0       0.18        0.00   \n",
       "21739                111.08                1       0.21        0.09   \n",
       "\n",
       "       PKNIT_DRES  PBLOUSES  ...  STORELOY  VALPHON  WEB  MAILED  RESPONDED  \\\n",
       "0            0.00      0.30  ...         7        N    0       5          0   \n",
       "1            0.00      0.00  ...         7        Y    0       4          2   \n",
       "2            0.00      0.00  ...         7        N    0       4          0   \n",
       "3            0.05      0.06  ...         7        Y    0       9          6   \n",
       "4            0.00      0.00  ...         7        Y    0       0          0   \n",
       "...           ...       ...  ...       ...      ...  ...     ...        ...   \n",
       "21735        0.39      0.00  ...       870        Y    0       1          0   \n",
       "21736        0.00      0.06  ...      4507        N    0       5          2   \n",
       "21737        0.01      0.14  ...      1615        N    0       7          2   \n",
       "21738        0.03      0.11  ...        36        Y    0       7          0   \n",
       "21739        0.00      0.21  ...        89        Y    0       6          2   \n",
       "\n",
       "       RESPONSERATE  LTFREDAY  CLUSTYPE  PERCRET  RESP  \n",
       "0              0.00    111.00        10     0.00     0  \n",
       "1             50.00     43.50        10     0.03     1  \n",
       "2              0.00     68.60        16     0.00     0  \n",
       "3             66.67     26.96        10     0.00     0  \n",
       "4              0.00     24.50        20     0.00     0  \n",
       "...             ...       ...       ...      ...   ...  \n",
       "21735          0.00    107.66         1     1.51     0  \n",
       "21736         40.00     18.45        12     0.69     0  \n",
       "21737         28.57     12.62        15     0.08     1  \n",
       "21738          0.00     32.12        38     0.37     0  \n",
       "21739         33.33     11.25        17     0.00     1  \n",
       "\n",
       "[21740 rows x 48 columns]"
      ]
     },
     "execution_count": 2,
     "metadata": {},
     "output_type": "execute_result"
    }
   ],
   "source": [
    "#read in the data, then change some things into panda object\n",
    "data_file = \"/users/hanjiashu/desktop/Clothing_Store.csv\"\n",
    "dataFile = pd.read_csv(data_file)\n",
    "data = dataFile\n",
    "data"
   ]
  },
  {
   "cell_type": "code",
   "execution_count": 3,
   "metadata": {},
   "outputs": [
    {
     "data": {
      "text/plain": [
       "<matplotlib.collections.PathCollection at 0x112bb3a20>"
      ]
     },
     "execution_count": 3,
     "metadata": {},
     "output_type": "execute_result"
    },
    {
     "data": {
      "image/png": "[encoded data removed]",
      "text/plain": [
       "<Figure size 432x288 with 1 Axes>"
      ]
     },
     "metadata": {
      "needs_background": "light"
     },
     "output_type": "display_data"
    }
   ],
   "source": [
    "#first we plot to get a feel\n",
    "\n",
    "plt.scatter((data[\"AVRG_SPENT_PER_VISIT\"]),range(len(data[\"AVRG_SPENT_PER_VISIT\"])))\n",
    "\n",
    "# newdata = data[data[\"TOTAL_SPENT\"]<4000]\n",
    "# plt.scatter((newdata[\"TOTAL_SPENT\"]),range((newdata[\"TOTAL_SPENT\"]<3000).shape[0]))\n"
   ]
  },
  {
   "cell_type": "markdown",
   "metadata": {},
   "source": [
    "### 1. we count how many outliers there are."
   ]
  },
  {
   "cell_type": "code",
   "execution_count": 4,
   "metadata": {
    "scrolled": true
   },
   "outputs": [
    {
     "name": "stdout",
     "output_type": "stream",
     "text": [
      "spent less than 40 0.9751609935602576\n",
      "spent above 3000 0.970561177552898\n"
     ]
    }
   ],
   "source": [
    "outliers = len(dataFile[(dataFile[\"TOTAL_SPENT\"]>0) & (dataFile[\"TOTAL_SPENT\"]<40)])\n",
    "tot = len(dataFile)\n",
    "print('spent less than 40',(outliers/tot) * 100)\n",
    "\n",
    "outliers = len(dataFile[(dataFile[\"TOTAL_SPENT\"]>3000)])\n",
    "print('spent above 3000',(outliers/tot) * 100)"
   ]
  },
  {
   "cell_type": "markdown",
   "metadata": {},
   "source": [
    "## What to do with this information?\n",
    "I first made uniform distributions, and tried to count them, then plot them to get a feel for the whole dataset.\n",
    "I will plot two plots, one for the dataset with removed outliers, and one without removed outliers."
   ]
  },
  {
   "cell_type": "markdown",
   "metadata": {},
   "source": [
    "I did so with the small code below, goodData represents the one with no outliers, and the badData is the one with no processing."
   ]
  },
  {
   "cell_type": "code",
   "execution_count": 5,
   "metadata": {},
   "outputs": [],
   "source": [
    "goodData = dataFile[(dataFile[\"TOTAL_SPENT\"]<3000) & (dataFile[\"TOTAL_SPENT\"]>40)]\n",
    "data = dataFile"
   ]
  },
  {
   "cell_type": "code",
   "execution_count": 6,
   "metadata": {},
   "outputs": [],
   "source": [
    "bestVar = 100000\n",
    "bestList = []\n",
    "goodData = dataFile[(dataFile[\"TOTAL_SPENT\"]<3000) & (dataFile[\"TOTAL_SPENT\"]>40)]\n",
    "\n",
    "badData = data\n",
    "\n",
    "\n",
    "goodVariance = []\n",
    "goodList = []\n",
    "\n",
    "badVariance = []\n",
    "badList = []\n",
    "\n",
    "goodBest = 10000000000\n",
    "badBest = 10000000000\n",
    "\n",
    "for j in range(1, 50):\n",
    "    goodSpentMax = int(goodData[['TOTAL_SPENT']].max())\n",
    "    goodSpentMin = int(goodData[['TOTAL_SPENT']].min())\n",
    "    goodInterval = (goodSpentMax - goodSpentMin)/j\n",
    "    \n",
    "    badSpentMax = int(badData[['TOTAL_SPENT']].max())\n",
    "    badSpentMin = int(badData[['TOTAL_SPENT']].min())\n",
    "    badInterval = (badSpentMax - badSpentMin)/j\n",
    "    \n",
    "    goodSpent = []\n",
    "    badSpent = []\n",
    "    \n",
    "    for i in range(0,j):\n",
    "        \n",
    "        goodTot = goodData[\n",
    "        (goodData['TOTAL_SPENT']>=(goodInterval*i)) &\n",
    "            (goodData['TOTAL_SPENT']<(goodInterval*(i+1)))]\n",
    "        \n",
    "        badTot = badData[\n",
    "        (badData['TOTAL_SPENT']>=(badInterval*i)) &\n",
    "            (badData['TOTAL_SPENT']<(badInterval*(i+1)))]\n",
    "        \n",
    "        goodSpent.append(len(goodTot))\n",
    "        badSpent.append(len(badTot))\n",
    "    \n",
    "    goodVar = np.var(goodSpent)\n",
    "    badVar = np.var(badSpent)\n",
    "    goodVariance.append(goodVar)\n",
    "    badVariance.append(badVar)\n",
    "    goodList.append(goodSpent)\n",
    "    badList.append(badSpent)\n",
    "#     if goodVar < goodBest and goodVar != 0:\n",
    "#         goodBest = goodVar\n",
    "#         goodList = goodSpent\n",
    "#     if badVar < badBest and badVar != 0:\n",
    "#         badBest = badVar\n",
    "#         badList = badSpent\n"
   ]
  },
  {
   "cell_type": "code",
   "execution_count": 7,
   "metadata": {},
   "outputs": [
    {
     "data": {
      "text/plain": [
       "<function matplotlib.pyplot.show(close=None, block=None)>"
      ]
     },
     "execution_count": 7,
     "metadata": {},
     "output_type": "execute_result"
    },
    {
     "data": {
      "image/png": "[encoded data removed]",
      "text/plain": [
       "<Figure size 432x288 with 1 Axes>"
      ]
     },
     "metadata": {
      "needs_background": "light"
     },
     "output_type": "display_data"
    }
   ],
   "source": [
    "plt.plot(badList[48][:])\n",
    "plt.title\n",
    "plt.show\n"
   ]
  },
  {
   "cell_type": "code",
   "execution_count": 8,
   "metadata": {},
   "outputs": [
    {
     "data": {
      "text/plain": [
       "<function matplotlib.pyplot.show(close=None, block=None)>"
      ]
     },
     "execution_count": 8,
     "metadata": {},
     "output_type": "execute_result"
    },
    {
     "data": {
      "image/png": "[encoded data removed]",
      "text/plain": [
       "<Figure size 432x288 with 1 Axes>"
      ]
     },
     "metadata": {
      "needs_background": "light"
     },
     "output_type": "display_data"
    }
   ],
   "source": [
    "plt.plot(goodList[48][1:])\n",
    "plt.show"
   ]
  },
  {
   "cell_type": "markdown",
   "metadata": {},
   "source": [
    "I want to put it into bins."
   ]
  },
  {
   "cell_type": "markdown",
   "metadata": {},
   "source": [
    "#### To sum up what I am doing,\n",
    "I want to put the total spent into bins, but I am not sure whether this is a good idea, so I will compare it with the one without any processisng."
   ]
  },
  {
   "cell_type": "code",
   "execution_count": 9,
   "metadata": {},
   "outputs": [],
   "source": [
    "goodData = dataFile[(dataFile[\"TOTAL_SPENT\"]<3000) & (dataFile[\"TOTAL_SPENT\"]>40)]"
   ]
  },
  {
   "cell_type": "code",
   "execution_count": 10,
   "metadata": {},
   "outputs": [
    {
     "name": "stdout",
     "output_type": "stream",
     "text": [
      "2999.96\n",
      "Total:  21316\n",
      "Bin width:  [15, 225, 50625]\n"
     ]
    }
   ],
   "source": [
    "totLen = goodData.shape[0]\n",
    "bins = [15]\n",
    "print(goodData[\"TOTAL_SPENT\"].max())\n",
    "while bins[-1] < goodData[\"TOTAL_SPENT\"].max():\n",
    "    bins.append(bins[-1]*bins[-1])\n",
    "    \n",
    "print('Total: ', totLen)\n",
    "print('Bin width: ', bins)"
   ]
  },
  {
   "cell_type": "code",
   "execution_count": 11,
   "metadata": {},
   "outputs": [
    {
     "name": "stdout",
     "output_type": "stream",
     "text": [
      "[64, 125, 216, 343, 512, 729, 1000, 1331, 1728, 2197, 2744, 3375]\n"
     ]
    }
   ],
   "source": [
    "powa = range(4)\n",
    "bins = [] \n",
    "for i in range(4,int(goodData[\"TOTAL_SPENT\"].max()**(1/3))+2):\n",
    "    bins.append(i**3)\n",
    "print(bins)"
   ]
  },
  {
   "cell_type": "markdown",
   "metadata": {},
   "source": [
    "now I want to put all the data into the bins, by enumerating the classes by 1~binNum "
   ]
  },
  {
   "cell_type": "code",
   "execution_count": 12,
   "metadata": {},
   "outputs": [
    {
     "name": "stdout",
     "output_type": "stream",
     "text": [
      "[64, 125, 216, 343, 512, 729, 1000, 1331, 1728, 2197, 2744, 3375]\n"
     ]
    }
   ],
   "source": [
    "import warnings\n",
    "warnings.filterwarnings('ignore')\n",
    "processed = goodData\n",
    "print(bins)\n",
    "for i in range(1,len(bins)):\n",
    "    if i == 1:\n",
    "        processed.loc[processed['TOTAL_SPENT'] < bins[i]] = i\n",
    "    else:\n",
    "        processed.loc[\n",
    "        ((processed['TOTAL_SPENT']>=bins[i-1]) &\n",
    "            (processed['TOTAL_SPENT']<bins[i])),['TOTAL_SPENT']] = i\n"
   ]
  },
  {
   "cell_type": "code",
   "execution_count": 13,
   "metadata": {},
   "outputs": [
    {
     "data": {
      "image/png": "[encoded data removed]",
      "text/plain": [
       "<Figure size 432x288 with 1 Axes>"
      ]
     },
     "metadata": {
      "needs_background": "light"
     },
     "output_type": "display_data"
    }
   ],
   "source": [
    "spentHist = goodData['TOTAL_SPENT']\n",
    "hist = spentHist.hist(bins = len(bins)-1)"
   ]
  },
  {
   "cell_type": "markdown",
   "metadata": {},
   "source": [
    "maybe this will make a change?"
   ]
  },
  {
   "cell_type": "code",
   "execution_count": 14,
   "metadata": {},
   "outputs": [
    {
     "data": {
      "text/plain": [
       "0        0\n",
       "1        1\n",
       "2        0\n",
       "3        1\n",
       "4        1\n",
       "        ..\n",
       "21735    1\n",
       "21736    0\n",
       "21737    0\n",
       "21738    1\n",
       "21739    1\n",
       "Name: VALPHON, Length: 21740, dtype: int64"
      ]
     },
     "execution_count": 14,
     "metadata": {},
     "output_type": "execute_result"
    }
   ],
   "source": [
    "goodData.drop(['CUSTOMER_ID'],axis = 1)\n",
    "goodData[\"VALPHON\"].replace({\"Y\": 1, \"N\": 0}, inplace = True)\n",
    "goodData['VALPHON']\n",
    "\n",
    "# data.drop(['CUSTOMER_ID'],axis = 1)\n",
    "data[\"VALPHON\"].replace({\"Y\": 1, \"N\": 0}, inplace = True)\n",
    "data['VALPHON']"
   ]
  },
  {
   "cell_type": "code",
   "execution_count": 15,
   "metadata": {},
   "outputs": [
    {
     "name": "stdout",
     "output_type": "stream",
     "text": [
      "0        0\n",
      "1        0\n",
      "2        0\n",
      "3        0\n",
      "4        0\n",
      "        ..\n",
      "21735    6\n",
      "21736    7\n",
      "21737    7\n",
      "21738    7\n",
      "21739    9\n",
      "Name: ZIP_CODE, Length: 21740, dtype: int64\n"
     ]
    }
   ],
   "source": [
    "goodData['ZIP_CODE'] = goodData['ZIP_CODE'].floordiv(10000)\n",
    "data['ZIP_CODE'] = data['ZIP_CODE'].floordiv(10000)\n",
    "\n",
    "print(data[\"ZIP_CODE\"])"
   ]
  },
  {
   "cell_type": "markdown",
   "metadata": {},
   "source": [
    "Since cardinality of this attribute is very high. I leave only several most common, and put all the others into a category ‘other’, or in this case, -1. \n"
   ]
  },
  {
   "cell_type": "code",
   "execution_count": 16,
   "metadata": {},
   "outputs": [
    {
     "name": "stdout",
     "output_type": "stream",
     "text": [
      "[10 10  1 ... 15 38 -1]\n"
     ]
    }
   ],
   "source": [
    "clust = [10,1,4,16,8,15,23,38]\n",
    "clustD = {}\n",
    "\n",
    "for i in range(0,(data[\"CLUSTYPE\"].max())+1):\n",
    "    if i in clust:\n",
    "        pass\n",
    "    else:\n",
    "        clustD[i] = -1\n",
    "\n",
    "data[\"CLUSTYPE\"].replace(clustD, inplace = True)\n",
    "goodData[\"CLUSTYPE\"].replace(clustD, inplace = True)\n",
    "\n",
    "print(goodData[\"CLUSTYPE\"].values)"
   ]
  },
  {
   "cell_type": "markdown",
   "metadata": {},
   "source": [
    "### 1.2 comparing classifiers"
   ]
  },
  {
   "cell_type": "markdown",
   "metadata": {},
   "source": [
    "#### 1.2.1 Regression "
   ]
  },
  {
   "cell_type": "markdown",
   "metadata": {},
   "source": [
    "We first do regression with the discreted and continuous data, to see which one works better."
   ]
  },
  {
   "cell_type": "code",
   "execution_count": 17,
   "metadata": {},
   "outputs": [],
   "source": [
    "goodX = goodData.drop(['RESP'], axis=1).to_numpy().tolist()\n",
    "goodY = goodData['RESP'].to_numpy().tolist()\n",
    "\n",
    "X = data.drop(['RESP'], axis=1).to_numpy().tolist()\n",
    "Y = data['RESP'].to_numpy().tolist()"
   ]
  },
  {
   "cell_type": "code",
   "execution_count": 18,
   "metadata": {},
   "outputs": [
    {
     "name": "stdout",
     "output_type": "stream",
     "text": [
      "bin:  0.6344999515542284\n",
      "cont:  0.8339006439742411\n"
     ]
    }
   ],
   "source": [
    "from sklearn import linear_model\n",
    "from sklearn.model_selection import cross_val_score\n",
    "import warnings; warnings.simplefilter('ignore')\n",
    "\n",
    "algorithms = ['newton-cg', 'lbfgs', 'liblinear', 'sag', 'saga'] # default='lbfgs'\n",
    "logreg = linear_model.LogisticRegression(solver=algorithms[4], random_state = 42)\n",
    "X = data.drop(['RESP'], axis=1).to_numpy().tolist()\n",
    "Y = data['RESP'].to_numpy().tolist()\n",
    "goodScore = cross_val_score(logreg, goodX, goodY, cv=20)\n",
    "goodAcc = np.mean(goodScore)\n",
    "\n",
    "score = cross_val_score(logreg, X, Y, cv=20)\n",
    "acc = np.mean(score)\n",
    "\n",
    "print(\"bin: \",goodAcc)\n",
    "print(\"cont: \",acc)\n"
   ]
  },
  {
   "cell_type": "markdown",
   "metadata": {},
   "source": [
    "##### Unfortunately, it turns out that putting it into bins is completly useless, now continue just with \"data\""
   ]
  },
  {
   "cell_type": "markdown",
   "metadata": {},
   "source": [
    "### KNN "
   ]
  },
  {
   "cell_type": "markdown",
   "metadata": {},
   "source": [
    "before feeding the data in, we have to normalize it."
   ]
  },
  {
   "cell_type": "code",
   "execution_count": 27,
   "metadata": {},
   "outputs": [
    {
     "data": {
      "text/html": [
       "<div>\n",
       "<style scoped>\n",
       "    .dataframe tbody tr th:only-of-type {\n",
       "        vertical-align: middle;\n",
       "    }\n",
       "\n",
       "    .dataframe tbody tr th {\n",
       "        vertical-align: top;\n",
       "    }\n",
       "\n",
       "    .dataframe thead th {\n",
       "        text-align: right;\n",
       "    }\n",
       "</style>\n",
       "<table border=\"1\" class=\"dataframe\">\n",
       "  <thead>\n",
       "    <tr style=\"text-align: right;\">\n",
       "      <th></th>\n",
       "      <th>CUSTOMER_ID</th>\n",
       "      <th>ZIP_CODE</th>\n",
       "      <th>TOTAL_VISITS</th>\n",
       "      <th>TOTAL_SPENT</th>\n",
       "      <th>AVRG_SPENT_PER_VISIT</th>\n",
       "      <th>HAS_CREDIT_CARD</th>\n",
       "      <th>PSWEATERS</th>\n",
       "      <th>PKNIT_TOPS</th>\n",
       "      <th>PKNIT_DRES</th>\n",
       "      <th>PBLOUSES</th>\n",
       "      <th>...</th>\n",
       "      <th>STORELOY</th>\n",
       "      <th>VALPHON</th>\n",
       "      <th>WEB</th>\n",
       "      <th>MAILED</th>\n",
       "      <th>RESPONDED</th>\n",
       "      <th>RESPONSERATE</th>\n",
       "      <th>LTFREDAY</th>\n",
       "      <th>CLUSTYPE</th>\n",
       "      <th>PERCRET</th>\n",
       "      <th>RESP</th>\n",
       "    </tr>\n",
       "  </thead>\n",
       "  <tbody>\n",
       "    <tr>\n",
       "      <th>0</th>\n",
       "      <td>0.000005</td>\n",
       "      <td>0.000000</td>\n",
       "      <td>0.008772</td>\n",
       "      <td>0.016324</td>\n",
       "      <td>0.095728</td>\n",
       "      <td>0.0</td>\n",
       "      <td>0.18</td>\n",
       "      <td>0.00</td>\n",
       "      <td>0.00</td>\n",
       "      <td>0.30</td>\n",
       "      <td>...</td>\n",
       "      <td>0.000533</td>\n",
       "      <td>0.0</td>\n",
       "      <td>0.0</td>\n",
       "      <td>0.454545</td>\n",
       "      <td>0.000000</td>\n",
       "      <td>0.0000</td>\n",
       "      <td>0.304773</td>\n",
       "      <td>0.282051</td>\n",
       "      <td>0.000000</td>\n",
       "      <td>0.0</td>\n",
       "    </tr>\n",
       "    <tr>\n",
       "      <th>1</th>\n",
       "      <td>0.000006</td>\n",
       "      <td>0.000000</td>\n",
       "      <td>0.026316</td>\n",
       "      <td>0.011417</td>\n",
       "      <td>0.033349</td>\n",
       "      <td>1.0</td>\n",
       "      <td>0.26</td>\n",
       "      <td>0.16</td>\n",
       "      <td>0.00</td>\n",
       "      <td>0.00</td>\n",
       "      <td>...</td>\n",
       "      <td>0.000533</td>\n",
       "      <td>1.0</td>\n",
       "      <td>0.0</td>\n",
       "      <td>0.363636</td>\n",
       "      <td>0.181818</td>\n",
       "      <td>0.5000</td>\n",
       "      <td>0.119288</td>\n",
       "      <td>0.282051</td>\n",
       "      <td>0.000733</td>\n",
       "      <td>1.0</td>\n",
       "    </tr>\n",
       "    <tr>\n",
       "      <th>2</th>\n",
       "      <td>0.000007</td>\n",
       "      <td>0.000000</td>\n",
       "      <td>0.008772</td>\n",
       "      <td>0.003377</td>\n",
       "      <td>0.019803</td>\n",
       "      <td>0.0</td>\n",
       "      <td>1.00</td>\n",
       "      <td>0.00</td>\n",
       "      <td>0.00</td>\n",
       "      <td>0.00</td>\n",
       "      <td>...</td>\n",
       "      <td>0.000533</td>\n",
       "      <td>0.0</td>\n",
       "      <td>0.0</td>\n",
       "      <td>0.363636</td>\n",
       "      <td>0.000000</td>\n",
       "      <td>0.0000</td>\n",
       "      <td>0.188261</td>\n",
       "      <td>0.435897</td>\n",
       "      <td>0.000000</td>\n",
       "      <td>0.0</td>\n",
       "    </tr>\n",
       "    <tr>\n",
       "      <th>3</th>\n",
       "      <td>0.000007</td>\n",
       "      <td>0.000000</td>\n",
       "      <td>0.061404</td>\n",
       "      <td>0.037541</td>\n",
       "      <td>0.054840</td>\n",
       "      <td>1.0</td>\n",
       "      <td>0.38</td>\n",
       "      <td>0.00</td>\n",
       "      <td>0.05</td>\n",
       "      <td>0.06</td>\n",
       "      <td>...</td>\n",
       "      <td>0.000533</td>\n",
       "      <td>1.0</td>\n",
       "      <td>0.0</td>\n",
       "      <td>0.818182</td>\n",
       "      <td>0.545455</td>\n",
       "      <td>0.6667</td>\n",
       "      <td>0.073837</td>\n",
       "      <td>0.282051</td>\n",
       "      <td>0.000000</td>\n",
       "      <td>0.0</td>\n",
       "    </tr>\n",
       "    <tr>\n",
       "      <th>4</th>\n",
       "      <td>0.000007</td>\n",
       "      <td>0.000000</td>\n",
       "      <td>0.000000</td>\n",
       "      <td>0.003840</td>\n",
       "      <td>0.045301</td>\n",
       "      <td>0.0</td>\n",
       "      <td>0.20</td>\n",
       "      <td>0.20</td>\n",
       "      <td>0.00</td>\n",
       "      <td>0.00</td>\n",
       "      <td>...</td>\n",
       "      <td>0.000533</td>\n",
       "      <td>1.0</td>\n",
       "      <td>0.0</td>\n",
       "      <td>0.000000</td>\n",
       "      <td>0.000000</td>\n",
       "      <td>0.0000</td>\n",
       "      <td>0.067077</td>\n",
       "      <td>0.000000</td>\n",
       "      <td>0.000000</td>\n",
       "      <td>0.0</td>\n",
       "    </tr>\n",
       "    <tr>\n",
       "      <th>...</th>\n",
       "      <td>...</td>\n",
       "      <td>...</td>\n",
       "      <td>...</td>\n",
       "      <td>...</td>\n",
       "      <td>...</td>\n",
       "      <td>...</td>\n",
       "      <td>...</td>\n",
       "      <td>...</td>\n",
       "      <td>...</td>\n",
       "      <td>...</td>\n",
       "      <td>...</td>\n",
       "      <td>...</td>\n",
       "      <td>...</td>\n",
       "      <td>...</td>\n",
       "      <td>...</td>\n",
       "      <td>...</td>\n",
       "      <td>...</td>\n",
       "      <td>...</td>\n",
       "      <td>...</td>\n",
       "      <td>...</td>\n",
       "      <td>...</td>\n",
       "    </tr>\n",
       "    <tr>\n",
       "      <th>21735</th>\n",
       "      <td>0.999959</td>\n",
       "      <td>0.666667</td>\n",
       "      <td>0.008772</td>\n",
       "      <td>0.001689</td>\n",
       "      <td>0.009904</td>\n",
       "      <td>0.0</td>\n",
       "      <td>0.00</td>\n",
       "      <td>0.00</td>\n",
       "      <td>0.39</td>\n",
       "      <td>0.00</td>\n",
       "      <td>...</td>\n",
       "      <td>0.115585</td>\n",
       "      <td>1.0</td>\n",
       "      <td>0.0</td>\n",
       "      <td>0.090909</td>\n",
       "      <td>0.000000</td>\n",
       "      <td>0.0000</td>\n",
       "      <td>0.295595</td>\n",
       "      <td>0.051282</td>\n",
       "      <td>0.036901</td>\n",
       "      <td>0.0</td>\n",
       "    </tr>\n",
       "    <tr>\n",
       "      <th>21736</th>\n",
       "      <td>0.999970</td>\n",
       "      <td>0.777778</td>\n",
       "      <td>0.043860</td>\n",
       "      <td>0.012421</td>\n",
       "      <td>0.024107</td>\n",
       "      <td>0.0</td>\n",
       "      <td>0.02</td>\n",
       "      <td>0.00</td>\n",
       "      <td>0.00</td>\n",
       "      <td>0.06</td>\n",
       "      <td>...</td>\n",
       "      <td>0.600453</td>\n",
       "      <td>0.0</td>\n",
       "      <td>0.0</td>\n",
       "      <td>0.454545</td>\n",
       "      <td>0.181818</td>\n",
       "      <td>0.4000</td>\n",
       "      <td>0.050452</td>\n",
       "      <td>0.000000</td>\n",
       "      <td>0.016862</td>\n",
       "      <td>0.0</td>\n",
       "    </tr>\n",
       "    <tr>\n",
       "      <th>21737</th>\n",
       "      <td>0.999980</td>\n",
       "      <td>0.777778</td>\n",
       "      <td>0.070175</td>\n",
       "      <td>0.056594</td>\n",
       "      <td>0.073549</td>\n",
       "      <td>0.0</td>\n",
       "      <td>0.29</td>\n",
       "      <td>0.04</td>\n",
       "      <td>0.01</td>\n",
       "      <td>0.14</td>\n",
       "      <td>...</td>\n",
       "      <td>0.214905</td>\n",
       "      <td>0.0</td>\n",
       "      <td>0.0</td>\n",
       "      <td>0.636364</td>\n",
       "      <td>0.181818</td>\n",
       "      <td>0.2857</td>\n",
       "      <td>0.034432</td>\n",
       "      <td>0.410256</td>\n",
       "      <td>0.001955</td>\n",
       "      <td>1.0</td>\n",
       "    </tr>\n",
       "    <tr>\n",
       "      <th>21738</th>\n",
       "      <td>0.999984</td>\n",
       "      <td>0.777778</td>\n",
       "      <td>0.017544</td>\n",
       "      <td>0.011770</td>\n",
       "      <td>0.045926</td>\n",
       "      <td>0.0</td>\n",
       "      <td>0.18</td>\n",
       "      <td>0.00</td>\n",
       "      <td>0.03</td>\n",
       "      <td>0.11</td>\n",
       "      <td>...</td>\n",
       "      <td>0.004399</td>\n",
       "      <td>1.0</td>\n",
       "      <td>0.0</td>\n",
       "      <td>0.636364</td>\n",
       "      <td>0.000000</td>\n",
       "      <td>0.0000</td>\n",
       "      <td>0.088016</td>\n",
       "      <td>1.000000</td>\n",
       "      <td>0.009042</td>\n",
       "      <td>0.0</td>\n",
       "    </tr>\n",
       "    <tr>\n",
       "      <th>21739</th>\n",
       "      <td>1.000000</td>\n",
       "      <td>1.000000</td>\n",
       "      <td>0.035088</td>\n",
       "      <td>0.024630</td>\n",
       "      <td>0.057617</td>\n",
       "      <td>1.0</td>\n",
       "      <td>0.21</td>\n",
       "      <td>0.09</td>\n",
       "      <td>0.00</td>\n",
       "      <td>0.21</td>\n",
       "      <td>...</td>\n",
       "      <td>0.011465</td>\n",
       "      <td>1.0</td>\n",
       "      <td>0.0</td>\n",
       "      <td>0.545455</td>\n",
       "      <td>0.181818</td>\n",
       "      <td>0.3333</td>\n",
       "      <td>0.030667</td>\n",
       "      <td>0.000000</td>\n",
       "      <td>0.000000</td>\n",
       "      <td>1.0</td>\n",
       "    </tr>\n",
       "  </tbody>\n",
       "</table>\n",
       "<p>21740 rows × 48 columns</p>\n",
       "</div>"
      ],
      "text/plain": [
       "       CUSTOMER_ID  ZIP_CODE  TOTAL_VISITS  TOTAL_SPENT  AVRG_SPENT_PER_VISIT  \\\n",
       "0         0.000005  0.000000      0.008772     0.016324              0.095728   \n",
       "1         0.000006  0.000000      0.026316     0.011417              0.033349   \n",
       "2         0.000007  0.000000      0.008772     0.003377              0.019803   \n",
       "3         0.000007  0.000000      0.061404     0.037541              0.054840   \n",
       "4         0.000007  0.000000      0.000000     0.003840              0.045301   \n",
       "...            ...       ...           ...          ...                   ...   \n",
       "21735     0.999959  0.666667      0.008772     0.001689              0.009904   \n",
       "21736     0.999970  0.777778      0.043860     0.012421              0.024107   \n",
       "21737     0.999980  0.777778      0.070175     0.056594              0.073549   \n",
       "21738     0.999984  0.777778      0.017544     0.011770              0.045926   \n",
       "21739     1.000000  1.000000      0.035088     0.024630              0.057617   \n",
       "\n",
       "       HAS_CREDIT_CARD  PSWEATERS  PKNIT_TOPS  PKNIT_DRES  PBLOUSES  ...  \\\n",
       "0                  0.0       0.18        0.00        0.00      0.30  ...   \n",
       "1                  1.0       0.26        0.16        0.00      0.00  ...   \n",
       "2                  0.0       1.00        0.00        0.00      0.00  ...   \n",
       "3                  1.0       0.38        0.00        0.05      0.06  ...   \n",
       "4                  0.0       0.20        0.20        0.00      0.00  ...   \n",
       "...                ...        ...         ...         ...       ...  ...   \n",
       "21735              0.0       0.00        0.00        0.39      0.00  ...   \n",
       "21736              0.0       0.02        0.00        0.00      0.06  ...   \n",
       "21737              0.0       0.29        0.04        0.01      0.14  ...   \n",
       "21738              0.0       0.18        0.00        0.03      0.11  ...   \n",
       "21739              1.0       0.21        0.09        0.00      0.21  ...   \n",
       "\n",
       "       STORELOY  VALPHON  WEB    MAILED  RESPONDED  RESPONSERATE  LTFREDAY  \\\n",
       "0      0.000533      0.0  0.0  0.454545   0.000000        0.0000  0.304773   \n",
       "1      0.000533      1.0  0.0  0.363636   0.181818        0.5000  0.119288   \n",
       "2      0.000533      0.0  0.0  0.363636   0.000000        0.0000  0.188261   \n",
       "3      0.000533      1.0  0.0  0.818182   0.545455        0.6667  0.073837   \n",
       "4      0.000533      1.0  0.0  0.000000   0.000000        0.0000  0.067077   \n",
       "...         ...      ...  ...       ...        ...           ...       ...   \n",
       "21735  0.115585      1.0  0.0  0.090909   0.000000        0.0000  0.295595   \n",
       "21736  0.600453      0.0  0.0  0.454545   0.181818        0.4000  0.050452   \n",
       "21737  0.214905      0.0  0.0  0.636364   0.181818        0.2857  0.034432   \n",
       "21738  0.004399      1.0  0.0  0.636364   0.000000        0.0000  0.088016   \n",
       "21739  0.011465      1.0  0.0  0.545455   0.181818        0.3333  0.030667   \n",
       "\n",
       "       CLUSTYPE   PERCRET  RESP  \n",
       "0      0.282051  0.000000   0.0  \n",
       "1      0.282051  0.000733   1.0  \n",
       "2      0.435897  0.000000   0.0  \n",
       "3      0.282051  0.000000   0.0  \n",
       "4      0.000000  0.000000   0.0  \n",
       "...         ...       ...   ...  \n",
       "21735  0.051282  0.036901   0.0  \n",
       "21736  0.000000  0.016862   0.0  \n",
       "21737  0.410256  0.001955   1.0  \n",
       "21738  1.000000  0.009042   0.0  \n",
       "21739  0.000000  0.000000   1.0  \n",
       "\n",
       "[21740 rows x 48 columns]"
      ]
     },
     "execution_count": 27,
     "metadata": {},
     "output_type": "execute_result"
    }
   ],
   "source": [
    "from sklearn.preprocessing import MinMaxScaler\n",
    "\n",
    "scaler = MinMaxScaler() \n",
    "normalized = data.copy()\n",
    "scaled = scaler.fit_transform(normalized) \n",
    "normalized.loc[:,:] = scaled\n",
    "normalized"
   ]
  },
  {
   "cell_type": "code",
   "execution_count": 31,
   "metadata": {},
   "outputs": [],
   "source": [
    "# data = data.drop(columns = [\"CUSTOMER_ID\"])\n",
    "\n",
    "columns_to_drop = [\n",
    "        'PSWEATERS', 'PKNIT_TOPS',\n",
    "        'PKNIT_DRES', 'PBLOUSES', 'PJACKETS', 'PCAR_PNTS', 'PCAS_PNTS',\n",
    "        'PSHIRTS', 'PDRESSES', 'PSUITS', 'POUTERWEAR', 'PJEWELRY', 'PFASHION',\n",
    "        'PLEGWEAR', 'PCOLLSPND','CUSTOMER_ID','SPEND_LAST_3MONTH', 'SPEND_LAST_6MONTH',\n",
    "        'MAILED']\n",
    "\n",
    "normalized = normalized.drop(columns=columns_to_drop, axis=1)"
   ]
  },
  {
   "cell_type": "code",
   "execution_count": 39,
   "metadata": {},
   "outputs": [
    {
     "data": {
      "text/plain": [
       "29"
      ]
     },
     "execution_count": 39,
     "metadata": {},
     "output_type": "execute_result"
    }
   ],
   "source": [
    "len(normalized.columns)"
   ]
  },
  {
   "cell_type": "code",
   "execution_count": 33,
   "metadata": {},
   "outputs": [
    {
     "name": "stdout",
     "output_type": "stream",
     "text": [
      "Normalized train score: 0.8845446182152714\n",
      "Normalized test score: 0.8145354185832566\n"
     ]
    }
   ],
   "source": [
    "from sklearn.model_selection import train_test_split\n",
    "\n",
    "X_normalized = normalized.drop(columns=['RESP' ])\n",
    "Y_normalized = normalized['RESP'].values\n",
    "\n",
    "\n",
    "\n",
    "X_train, X_test, Y_train, Y_test = train_test_split(X_normalized, Y_normalized, test_size=0.5)\n",
    "\n",
    "# Build a classifier\n",
    "knn = KNeighborsClassifier(n_neighbors=3, weights = 'uniform')\n",
    "knn.fit(X_train, Y_train)\n",
    "\n",
    "print(\"Normalized train score:\", knn.score(X_train, Y_train))\n",
    "print(\"Normalized test score:\", knn.score(X_test, Y_test))"
   ]
  },
  {
   "cell_type": "code",
   "execution_count": 12,
   "metadata": {},
   "outputs": [],
   "source": [
    "from sklearn.model_selection import GridSearchCV\n",
    "from sklearn.neighbors import KNeighborsClassifier\n"
   ]
  },
  {
   "cell_type": "code",
   "execution_count": 40,
   "metadata": {},
   "outputs": [
    {
     "name": "stdout",
     "output_type": "stream",
     "text": [
      "{'n_neighbors': 38}\n",
      "38\n"
     ]
    }
   ],
   "source": [
    "new_knn = KNeighborsClassifier(weights='distance')\n",
    "grid_dictionary = {'n_neighbors': range(30,45)}\n",
    "gsc = GridSearchCV(cv=20, estimator=new_knn , param_grid=grid_dictionary)\n",
    "gsc.fit(X_normalized, Y_normalized)\n",
    "best = gsc.best_params_['n_neighbors']\n",
    "print(gsc.best_params_)\n",
    "print(best)"
   ]
  },
  {
   "cell_type": "code",
   "execution_count": 42,
   "metadata": {},
   "outputs": [
    {
     "name": "stdout",
     "output_type": "stream",
     "text": [
      "[0.83440662 0.8399264  0.84544618 0.84360626 0.84452622 0.84360626\n",
      " 0.84820607 0.84268629 0.8399264  0.83808648 0.850046   0.84728611\n",
      " 0.84176633 0.85464581 0.85188592 0.83532659 0.84268629 0.8399264\n",
      " 0.850046   0.84544618]\n",
      "KNN: accuracy in [0.8421 , 0.8459] with 90% confidence\n"
     ]
    }
   ],
   "source": [
    "from sklearn.model_selection import cross_val_score\n",
    "import math\n",
    "\n",
    "knn_cv = KNeighborsClassifier(n_neighbors=43)\n",
    "\n",
    "knn_cv_scores = cross_val_score(knn_cv, X_normalized, Y_normalized, cv=20)\n",
    "mean_score = np.mean(knn_cv_scores)\n",
    "std_dev = knn_cv_scores.std()\n",
    "true_std = std_dev / math.sqrt(knn_cv_scores.shape[0])\n",
    "lower_bound = mean_score - 1.64 * true_std\n",
    "upper_bound = mean_score + 1.64 * true_std\n",
    "\n",
    "print(knn_cv_scores)\n",
    "print('KNN: accuracy in [{:.4f} , {:.4f}] with 90% confidence'.format(lower_bound,upper_bound))"
   ]
  },
  {
   "cell_type": "code",
   "execution_count": 36,
   "metadata": {},
   "outputs": [
    {
     "name": "stdout",
     "output_type": "stream",
     "text": [
      "[0.83440662 0.43330267 0.74057038 0.41214351 0.46642134 0.43606256\n",
      " 0.35878565 0.45722171 0.39282429 0.76908924 0.46918123 0.44434223\n",
      " 0.33210672 0.33026679 0.29438822 0.1674333  0.18123275 0.39374425\n",
      " 0.43974241 0.83348666]\n",
      "knn_cv_scores mean:0.4593376264949402\n"
     ]
    }
   ],
   "source": [
    "from sklearn.model_selection import cross_val_score\n",
    "import math\n",
    "\n",
    "knn = KNeighborsClassifier(n_neighbors=best, weights='distance')\n",
    " \n",
    "knn_cv_scores = cross_val_score(knn, X, Y, cv=20)\n",
    "\n",
    "print(knn_cv_scores)\n",
    "\n",
    "knn_cv_mean = np.mean(knn_cv_scores)\n",
    "\n",
    "print('knn_cv_scores mean:{}'.format(knn_cv_mean))"
   ]
  },
  {
   "cell_type": "code",
   "execution_count": 48,
   "metadata": {},
   "outputs": [
    {
     "name": "stdout",
     "output_type": "stream",
     "text": [
      "[0.84084637 0.85372585 0.84820607 0.85556578 0.84820607 0.86292548\n",
      " 0.85648574 0.850046   0.84820607 0.85188592 0.85556578 0.8574057\n",
      " 0.85280589 0.85280589 0.85832567 0.84544618 0.85464581 0.84728611\n",
      " 0.85280589 0.85280589]\n",
      "mean:  0.8522999080036799\n"
     ]
    }
   ],
   "source": [
    "from sklearn import linear_model\n",
    "\n",
    "logreg = linear_model.LogisticRegression(solver='saga', random_state = 42)\n",
    "\n",
    "log_cv_scores = cross_val_score(logreg,X_normalized,Y_normalized, cv=20)\n",
    "print(log_cv_scores)\n",
    "\n",
    "log_cv_mean = np.mean(log_cv_scores)\n",
    "\n",
    "print(\"mean: \", log_cv_mean)"
   ]
  },
  {
   "cell_type": "code",
   "execution_count": 54,
   "metadata": {},
   "outputs": [
    {
     "name": "stdout",
     "output_type": "stream",
     "text": [
      "mean diffs:  -0.008325666973321062\n",
      "std_diffs:  0.004613365508459298\n",
      "variance:  0.001031579888196787\n"
     ]
    }
   ],
   "source": [
    "score_diffs =  knn_cv_scores-log_cv_scores \n",
    "\n",
    "# find mean of differences\n",
    "mean_diffs =(score_diffs).mean()\n",
    "\n",
    "# standard deviation of differences\n",
    "std_diffs = (score_diffs).std()\n",
    "variance = std_diffs/(20**0.5)\n",
    "print(\"mean diffs: \",(mean_diffs))\n",
    "print(\"std_diffs: \",(std_diffs))\n",
    "print(\"variance: \", variance)"
   ]
  },
  {
   "cell_type": "markdown",
   "metadata": {},
   "source": [
    "with confidence = 90%, and cv = 20, we choose the t value to be 2.101\n",
    "so the bounds should be [0 - 2.101 variance,0+2.101 variance]\n"
   ]
  },
  {
   "cell_type": "code",
   "execution_count": 56,
   "metadata": {},
   "outputs": [
    {
     "name": "stdout",
     "output_type": "stream",
     "text": [
      "[ -0.00216734934510145 , + 0.00216734934510145\n"
     ]
    }
   ],
   "source": [
    "print(\"[\",-2.101*variance,', +',2.101*variance)"
   ]
  },
  {
   "cell_type": "markdown",
   "metadata": {},
   "source": [
    "   Unfortunately, the mean is outside of this interval, thus meaning that the null hypothesis is false. Meaning that there is significant difference between the two. And because the value is negative, this means that the logistic regression is significantly better than the neighbors method."
   ]
  },
  {
   "cell_type": "markdown",
   "metadata": {},
   "source": [
    "### Part 2\n",
    "Business Analysis"
   ]
  },
  {
   "cell_type": "code",
   "execution_count": 206,
   "metadata": {},
   "outputs": [
    {
     "data": {
      "text/html": [
       "<div>\n",
       "<style scoped>\n",
       "    .dataframe tbody tr th:only-of-type {\n",
       "        vertical-align: middle;\n",
       "    }\n",
       "\n",
       "    .dataframe tbody tr th {\n",
       "        vertical-align: top;\n",
       "    }\n",
       "\n",
       "    .dataframe thead th {\n",
       "        text-align: right;\n",
       "    }\n",
       "</style>\n",
       "<table border=\"1\" class=\"dataframe\">\n",
       "  <thead>\n",
       "    <tr style=\"text-align: right;\">\n",
       "      <th></th>\n",
       "      <th>Prob</th>\n",
       "      <th>Predict</th>\n",
       "      <th>Actual</th>\n",
       "      <th>c_sum</th>\n",
       "    </tr>\n",
       "  </thead>\n",
       "  <tbody>\n",
       "    <tr>\n",
       "      <th>2789</th>\n",
       "      <td>0.986052</td>\n",
       "      <td>1.0</td>\n",
       "      <td>1.0</td>\n",
       "      <td>1.0</td>\n",
       "    </tr>\n",
       "    <tr>\n",
       "      <th>8284</th>\n",
       "      <td>0.977664</td>\n",
       "      <td>1.0</td>\n",
       "      <td>1.0</td>\n",
       "      <td>2.0</td>\n",
       "    </tr>\n",
       "    <tr>\n",
       "      <th>5767</th>\n",
       "      <td>0.963868</td>\n",
       "      <td>1.0</td>\n",
       "      <td>1.0</td>\n",
       "      <td>3.0</td>\n",
       "    </tr>\n",
       "    <tr>\n",
       "      <th>4303</th>\n",
       "      <td>0.959358</td>\n",
       "      <td>1.0</td>\n",
       "      <td>1.0</td>\n",
       "      <td>4.0</td>\n",
       "    </tr>\n",
       "    <tr>\n",
       "      <th>2865</th>\n",
       "      <td>0.958255</td>\n",
       "      <td>1.0</td>\n",
       "      <td>1.0</td>\n",
       "      <td>5.0</td>\n",
       "    </tr>\n",
       "    <tr>\n",
       "      <th>...</th>\n",
       "      <td>...</td>\n",
       "      <td>...</td>\n",
       "      <td>...</td>\n",
       "      <td>...</td>\n",
       "    </tr>\n",
       "    <tr>\n",
       "      <th>7012</th>\n",
       "      <td>0.000010</td>\n",
       "      <td>0.0</td>\n",
       "      <td>0.0</td>\n",
       "      <td>1496.0</td>\n",
       "    </tr>\n",
       "    <tr>\n",
       "      <th>3858</th>\n",
       "      <td>0.000010</td>\n",
       "      <td>0.0</td>\n",
       "      <td>0.0</td>\n",
       "      <td>1496.0</td>\n",
       "    </tr>\n",
       "    <tr>\n",
       "      <th>4437</th>\n",
       "      <td>0.000010</td>\n",
       "      <td>0.0</td>\n",
       "      <td>0.0</td>\n",
       "      <td>1496.0</td>\n",
       "    </tr>\n",
       "    <tr>\n",
       "      <th>216</th>\n",
       "      <td>0.000010</td>\n",
       "      <td>0.0</td>\n",
       "      <td>0.0</td>\n",
       "      <td>1496.0</td>\n",
       "    </tr>\n",
       "    <tr>\n",
       "      <th>1786</th>\n",
       "      <td>0.000010</td>\n",
       "      <td>0.0</td>\n",
       "      <td>0.0</td>\n",
       "      <td>1496.0</td>\n",
       "    </tr>\n",
       "  </tbody>\n",
       "</table>\n",
       "<p>8696 rows × 4 columns</p>\n",
       "</div>"
      ],
      "text/plain": [
       "          Prob  Predict  Actual   c_sum\n",
       "2789  0.986052      1.0     1.0     1.0\n",
       "8284  0.977664      1.0     1.0     2.0\n",
       "5767  0.963868      1.0     1.0     3.0\n",
       "4303  0.959358      1.0     1.0     4.0\n",
       "2865  0.958255      1.0     1.0     5.0\n",
       "...        ...      ...     ...     ...\n",
       "7012  0.000010      0.0     0.0  1496.0\n",
       "3858  0.000010      0.0     0.0  1496.0\n",
       "4437  0.000010      0.0     0.0  1496.0\n",
       "216   0.000010      0.0     0.0  1496.0\n",
       "1786  0.000010      0.0     0.0  1496.0\n",
       "\n",
       "[8696 rows x 4 columns]"
      ]
     },
     "execution_count": 206,
     "metadata": {},
     "output_type": "execute_result"
    }
   ],
   "source": [
    "X_train, X_test, Y_train, Y_test = train_test_split(X_normalized, Y_normalized, test_size=0.4, random_state=42)\n",
    "fitted_model = logreg.fit(X_train, Y_train)\n",
    "\n",
    "logistic_prob = logreg.predict_proba(X_test)\n",
    "logistic_pred = logreg.predict(X_test)\n",
    "\n",
    "res = pd.DataFrame({\n",
    "'Prob': 1- logistic_prob[:,0],'Predict': logistic_pred,'Actual': Y_test\n",
    "})\n",
    "\n",
    "\n",
    "sorted_res = res.sort_values(['Prob'],ascending=False)\n",
    "sorted_res['c_sum'] = sorted_res['Actual'].cumsum()\n",
    "random_res = res\n",
    "random_res['c_sum'] = random_res['Actual'].cumsum()\n"
   ]
  },
  {
   "cell_type": "markdown",
   "metadata": {},
   "source": [
    "The above is train test split, since we want to do this analysis for underlying new customers, I train the model on a part of the given data, and use the other part of data as the \"new\" customers."
   ]
  },
  {
   "cell_type": "code",
   "execution_count": 207,
   "metadata": {},
   "outputs": [
    {
     "data": {
      "image/png": "[encoded data removed]",
      "text/plain": [
       "<Figure size 432x288 with 1 Axes>"
      ]
     },
     "metadata": {
      "needs_background": "light"
     },
     "output_type": "display_data"
    }
   ],
   "source": [
    "sorted_rate = sorted_res['c_sum']/len(np.arange(1,len(res)+1))\n",
    "random_rate = random_res['c_sum']/len(np.arange(1,len(res)+1))\n",
    "\n",
    "plt.plot(np.arange(1,len(res)+1), sorted_rate*100, label='Sort', c='r')\n",
    "plt.plot(np.arange(1,len(res)+1), random_rate*100, label='Random', c='b')\n",
    "plt.title(\"Lift\")\n",
    "plt.xlabel('Letters sent')\n",
    "plt.ylabel('Success rate')\n",
    "plt.legend()\n",
    "plt.show()"
   ]
  },
  {
   "cell_type": "markdown",
   "metadata": {},
   "source": [
    "the above is the lift chart, with the y axis the success rate, and x axis as the amount of letters sent."
   ]
  },
  {
   "cell_type": "code",
   "execution_count": 192,
   "metadata": {},
   "outputs": [
    {
     "data": {
      "text/html": [
       "<div>\n",
       "<style scoped>\n",
       "    .dataframe tbody tr th:only-of-type {\n",
       "        vertical-align: middle;\n",
       "    }\n",
       "\n",
       "    .dataframe tbody tr th {\n",
       "        vertical-align: top;\n",
       "    }\n",
       "\n",
       "    .dataframe thead th {\n",
       "        text-align: right;\n",
       "    }\n",
       "</style>\n",
       "<table border=\"1\" class=\"dataframe\">\n",
       "  <thead>\n",
       "    <tr style=\"text-align: right;\">\n",
       "      <th></th>\n",
       "      <th>letters_sent</th>\n",
       "      <th>cost</th>\n",
       "      <th>benefit</th>\n",
       "      <th>money</th>\n",
       "    </tr>\n",
       "  </thead>\n",
       "  <tbody>\n",
       "    <tr>\n",
       "      <th>0</th>\n",
       "      <td>1</td>\n",
       "      <td>4</td>\n",
       "      <td>0.0</td>\n",
       "      <td>-4.0</td>\n",
       "    </tr>\n",
       "    <tr>\n",
       "      <th>1</th>\n",
       "      <td>2</td>\n",
       "      <td>8</td>\n",
       "      <td>0.0</td>\n",
       "      <td>-8.0</td>\n",
       "    </tr>\n",
       "    <tr>\n",
       "      <th>2</th>\n",
       "      <td>3</td>\n",
       "      <td>12</td>\n",
       "      <td>0.0</td>\n",
       "      <td>-12.0</td>\n",
       "    </tr>\n",
       "    <tr>\n",
       "      <th>3</th>\n",
       "      <td>4</td>\n",
       "      <td>16</td>\n",
       "      <td>0.0</td>\n",
       "      <td>-16.0</td>\n",
       "    </tr>\n",
       "    <tr>\n",
       "      <th>4</th>\n",
       "      <td>5</td>\n",
       "      <td>20</td>\n",
       "      <td>0.0</td>\n",
       "      <td>-20.0</td>\n",
       "    </tr>\n",
       "    <tr>\n",
       "      <th>...</th>\n",
       "      <td>...</td>\n",
       "      <td>...</td>\n",
       "      <td>...</td>\n",
       "      <td>...</td>\n",
       "    </tr>\n",
       "    <tr>\n",
       "      <th>8691</th>\n",
       "      <td>8692</td>\n",
       "      <td>34768</td>\n",
       "      <td>22440.0</td>\n",
       "      <td>-12328.0</td>\n",
       "    </tr>\n",
       "    <tr>\n",
       "      <th>8692</th>\n",
       "      <td>8693</td>\n",
       "      <td>34772</td>\n",
       "      <td>22440.0</td>\n",
       "      <td>-12332.0</td>\n",
       "    </tr>\n",
       "    <tr>\n",
       "      <th>8693</th>\n",
       "      <td>8694</td>\n",
       "      <td>34776</td>\n",
       "      <td>22440.0</td>\n",
       "      <td>-12336.0</td>\n",
       "    </tr>\n",
       "    <tr>\n",
       "      <th>8694</th>\n",
       "      <td>8695</td>\n",
       "      <td>34780</td>\n",
       "      <td>22440.0</td>\n",
       "      <td>-12340.0</td>\n",
       "    </tr>\n",
       "    <tr>\n",
       "      <th>8695</th>\n",
       "      <td>8696</td>\n",
       "      <td>34784</td>\n",
       "      <td>22440.0</td>\n",
       "      <td>-12344.0</td>\n",
       "    </tr>\n",
       "  </tbody>\n",
       "</table>\n",
       "<p>8696 rows × 4 columns</p>\n",
       "</div>"
      ],
      "text/plain": [
       "      letters_sent   cost  benefit    money\n",
       "0                1      4      0.0     -4.0\n",
       "1                2      8      0.0     -8.0\n",
       "2                3     12      0.0    -12.0\n",
       "3                4     16      0.0    -16.0\n",
       "4                5     20      0.0    -20.0\n",
       "...            ...    ...      ...      ...\n",
       "8691          8692  34768  22440.0 -12328.0\n",
       "8692          8693  34772  22440.0 -12332.0\n",
       "8693          8694  34776  22440.0 -12336.0\n",
       "8694          8695  34780  22440.0 -12340.0\n",
       "8695          8696  34784  22440.0 -12344.0\n",
       "\n",
       "[8696 rows x 4 columns]"
      ]
     },
     "execution_count": 192,
     "metadata": {},
     "output_type": "execute_result"
    }
   ],
   "source": [
    "cost = 4\n",
    "benefit = 15\n",
    "\n",
    "\n",
    "random = {\n",
    "    'letters_sent': np.arange(1,len(res)+1),\n",
    "    'cost': np.arange(1,len(res)+1) * cost,\n",
    "    'benefit': random_res['c_sum'] * benefit\n",
    "}\n",
    "\n",
    "random_df = pd.DataFrame(random)\n",
    "\n",
    "random_money = random_df['benefit'] - random_df['cost']\n",
    "random_df['money'] = random_money\n",
    "\n",
    "random_df"
   ]
  },
  {
   "cell_type": "markdown",
   "metadata": {},
   "source": [
    "the above is the amount of money in theory, I used 4 as the cost and 15 as the reward because can demonstrate what is trying to be achieved in this lab."
   ]
  },
  {
   "cell_type": "code",
   "execution_count": 209,
   "metadata": {},
   "outputs": [
    {
     "data": {
      "image/png": "[encoded data removed]",
      "text/plain": [
       "<Figure size 432x288 with 1 Axes>"
      ]
     },
     "metadata": {
      "needs_background": "light"
     },
     "output_type": "display_data"
    }
   ],
   "source": [
    "plt.plot(random_df['letters_sent'], random_df['money'], c='r')\n",
    "\n",
    "plt.title(\"Random\")\n",
    "plt.xlabel('Letters sent')\n",
    "plt.ylabel('Money')\n",
    "plt.show()"
   ]
  },
  {
   "cell_type": "markdown",
   "metadata": {},
   "source": [
    "a small plot indicating what would happen if emails are sent out at random"
   ]
  },
  {
   "cell_type": "code",
   "execution_count": 202,
   "metadata": {},
   "outputs": [
    {
     "data": {
      "text/html": [
       "<div>\n",
       "<style scoped>\n",
       "    .dataframe tbody tr th:only-of-type {\n",
       "        vertical-align: middle;\n",
       "    }\n",
       "\n",
       "    .dataframe tbody tr th {\n",
       "        vertical-align: top;\n",
       "    }\n",
       "\n",
       "    .dataframe thead th {\n",
       "        text-align: right;\n",
       "    }\n",
       "</style>\n",
       "<table border=\"1\" class=\"dataframe\">\n",
       "  <thead>\n",
       "    <tr style=\"text-align: right;\">\n",
       "      <th></th>\n",
       "      <th>letters_sent</th>\n",
       "      <th>cost</th>\n",
       "      <th>benefit</th>\n",
       "      <th>money</th>\n",
       "    </tr>\n",
       "  </thead>\n",
       "  <tbody>\n",
       "    <tr>\n",
       "      <th>2789</th>\n",
       "      <td>1</td>\n",
       "      <td>4</td>\n",
       "      <td>15.0</td>\n",
       "      <td>11.0</td>\n",
       "    </tr>\n",
       "    <tr>\n",
       "      <th>8284</th>\n",
       "      <td>2</td>\n",
       "      <td>8</td>\n",
       "      <td>30.0</td>\n",
       "      <td>22.0</td>\n",
       "    </tr>\n",
       "    <tr>\n",
       "      <th>5767</th>\n",
       "      <td>3</td>\n",
       "      <td>12</td>\n",
       "      <td>45.0</td>\n",
       "      <td>33.0</td>\n",
       "    </tr>\n",
       "    <tr>\n",
       "      <th>4303</th>\n",
       "      <td>4</td>\n",
       "      <td>16</td>\n",
       "      <td>60.0</td>\n",
       "      <td>44.0</td>\n",
       "    </tr>\n",
       "    <tr>\n",
       "      <th>2865</th>\n",
       "      <td>5</td>\n",
       "      <td>20</td>\n",
       "      <td>75.0</td>\n",
       "      <td>55.0</td>\n",
       "    </tr>\n",
       "    <tr>\n",
       "      <th>...</th>\n",
       "      <td>...</td>\n",
       "      <td>...</td>\n",
       "      <td>...</td>\n",
       "      <td>...</td>\n",
       "    </tr>\n",
       "    <tr>\n",
       "      <th>7012</th>\n",
       "      <td>8692</td>\n",
       "      <td>34768</td>\n",
       "      <td>22440.0</td>\n",
       "      <td>-12328.0</td>\n",
       "    </tr>\n",
       "    <tr>\n",
       "      <th>3858</th>\n",
       "      <td>8693</td>\n",
       "      <td>34772</td>\n",
       "      <td>22440.0</td>\n",
       "      <td>-12332.0</td>\n",
       "    </tr>\n",
       "    <tr>\n",
       "      <th>4437</th>\n",
       "      <td>8694</td>\n",
       "      <td>34776</td>\n",
       "      <td>22440.0</td>\n",
       "      <td>-12336.0</td>\n",
       "    </tr>\n",
       "    <tr>\n",
       "      <th>216</th>\n",
       "      <td>8695</td>\n",
       "      <td>34780</td>\n",
       "      <td>22440.0</td>\n",
       "      <td>-12340.0</td>\n",
       "    </tr>\n",
       "    <tr>\n",
       "      <th>1786</th>\n",
       "      <td>8696</td>\n",
       "      <td>34784</td>\n",
       "      <td>22440.0</td>\n",
       "      <td>-12344.0</td>\n",
       "    </tr>\n",
       "  </tbody>\n",
       "</table>\n",
       "<p>8696 rows × 4 columns</p>\n",
       "</div>"
      ],
      "text/plain": [
       "      letters_sent   cost  benefit    money\n",
       "2789             1      4     15.0     11.0\n",
       "8284             2      8     30.0     22.0\n",
       "5767             3     12     45.0     33.0\n",
       "4303             4     16     60.0     44.0\n",
       "2865             5     20     75.0     55.0\n",
       "...            ...    ...      ...      ...\n",
       "7012          8692  34768  22440.0 -12328.0\n",
       "3858          8693  34772  22440.0 -12332.0\n",
       "4437          8694  34776  22440.0 -12336.0\n",
       "216           8695  34780  22440.0 -12340.0\n",
       "1786          8696  34784  22440.0 -12344.0\n",
       "\n",
       "[8696 rows x 4 columns]"
      ]
     },
     "execution_count": 202,
     "metadata": {},
     "output_type": "execute_result"
    }
   ],
   "source": [
    "good = {'letters_sent': np.arange(1,len(res)+1),\n",
    "        'cost': np.arange(1,len(res)+1) * cost,\n",
    "        'benefit': sorted_res['c_sum'] * benefit}\n",
    "\n",
    "good_df = pd.DataFrame(good)\n",
    "\n",
    "expected_revenue = good_df['benefit'] - good_df['cost']\n",
    "good_df['money'] = expected_revenue\n",
    "\n",
    "good_df"
   ]
  },
  {
   "cell_type": "markdown",
   "metadata": {},
   "source": [
    "the sorted good data."
   ]
  },
  {
   "cell_type": "code",
   "execution_count": 195,
   "metadata": {},
   "outputs": [
    {
     "data": {
      "image/png": "[encoded data removed]",
      "text/plain": [
       "<Figure size 432x288 with 1 Axes>"
      ]
     },
     "metadata": {
      "needs_background": "light"
     },
     "output_type": "display_data"
    }
   ],
   "source": [
    "plt.plot(good_df['letters_sent'], good_df['money'], c='r')\n",
    "\n",
    "plt.title(\"Sorted\")\n",
    "plt.xlabel('Number of letters sent')\n",
    "plt.ylabel('Expected Revenue')\n",
    "plt.show()"
   ]
  },
  {
   "cell_type": "markdown",
   "metadata": {},
   "source": [
    "In conclusion, it is obvious that we should send out the letters via the sorted data, and the maximum profit occurs at the peak of the graph. "
   ]
  },
  {
   "cell_type": "code",
   "execution_count": 197,
   "metadata": {},
   "outputs": [
    {
     "name": "stdout",
     "output_type": "stream",
     "text": [
      "Max Profit: $ 6234.0\n",
      "Number of letters sent:  2004\n"
     ]
    }
   ],
   "source": [
    "good_money = np.max(good_df['money'])\n",
    "print(\"Max Profit: $\", sorted_max_profit)\n",
    "\n",
    "good_money_actual = good_df[good_df['money'] == good_money]\n",
    "\n",
    "good_number_letters = good_money_actual['letters_sent'].tolist()[0]\n",
    "\n",
    "print(\"Number of letters sent: \", good_number_letters)"
   ]
  }
 ],
 "metadata": {
  "kernelspec": {
   "display_name": "Python 3",
   "language": "python",
   "name": "python3"
  },
  "language_info": {
   "codemirror_mode": {
    "name": "ipython",
    "version": 3
   },
   "file_extension": ".py",
   "mimetype": "text/x-python",
   "name": "python",
   "nbconvert_exporter": "python",
   "pygments_lexer": "ipython3",
   "version": "3.6.12"
  }
 },
 "nbformat": 4,
 "nbformat_minor": 4
}
